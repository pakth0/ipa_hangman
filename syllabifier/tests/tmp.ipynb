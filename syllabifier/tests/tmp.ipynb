{
 "cells": [
  {
   "cell_type": "markdown",
   "metadata": {},
   "source": [
    "# Using syllabifyARPA"
   ]
  },
  {
   "cell_type": "code",
   "execution_count": 1,
   "metadata": {
    "collapsed": true
   },
   "outputs": [],
   "source": [
    "from syllabifyARPA import syllabifyARPA"
   ]
  },
  {
   "cell_type": "markdown",
   "metadata": {},
   "source": [
    "## With Python strings and arrays"
   ]
  },
  {
   "cell_type": "code",
   "execution_count": 2,
   "metadata": {
    "collapsed": true
   },
   "outputs": [],
   "source": [
    "ARPAstring = 'HH AE NG M AE N'\n",
    "ARPAarray = ARPAstring.split()"
   ]
  },
  {
   "cell_type": "code",
   "execution_count": 3,
   "metadata": {},
   "outputs": [
    {
     "name": "stdout",
     "output_type": "stream",
     "text": [
      "0    HH AE NG\n",
      "1      M AE N\n",
      "dtype: object\n",
      "0    HH AE NG\n",
      "1      M AE N\n",
      "dtype: object\n"
     ]
    }
   ],
   "source": [
    "print(syllabifyARPA(ARPAstring))\n",
    "print(syllabifyARPA(ARPAarray)) # Same result with a string or phone array"
   ]
  },
  {
   "cell_type": "code",
   "execution_count": 4,
   "metadata": {},
   "outputs": [
    {
     "data": {
      "text/plain": [
       "['HH AE NG', 'M AE N']"
      ]
     },
     "execution_count": 4,
     "metadata": {},
     "output_type": "execute_result"
    }
   ],
   "source": [
    "# Use return_list parameter to change return type (Pandas Series by default)\n",
    "syllabifyARPA(ARPAarray, return_list=True)"
   ]
  },
  {
   "cell_type": "code",
   "execution_count": 12,
   "metadata": {},
   "outputs": [
    {
     "name": "stdout",
     "output_type": "stream",
     "text": [
      "Caught the following error:\n"
     ]
    },
    {
     "name": "stderr",
     "output_type": "stream",
     "text": [
      "Bad onset cluster in M G L AA\n"
     ]
    }
   ],
   "source": [
    "unsyllabifiable = 'M G L AA'\n",
    "try:\n",
    "    syllabifyARPA(unsyllabifiable)\n",
    "except ValueError as e:\n",
    "    print(\"Caught the following error:\")\n",
    "    import sys\n",
    "    print(e, file=sys.stderr)"
   ]
  },
  {
   "cell_type": "markdown",
   "metadata": {},
   "source": [
    "## With Pandas Series and DataFrames"
   ]
  },
  {
   "cell_type": "markdown",
   "metadata": {},
   "source": [
    "### Importing CMU dictionary data from the text file"
   ]
  },
  {
   "cell_type": "code",
   "execution_count": 6,
   "metadata": {},
   "outputs": [
    {
     "data": {
      "text/html": [
       "<div>\n",
       "<style>\n",
       "    .dataframe thead tr:only-child th {\n",
       "        text-align: right;\n",
       "    }\n",
       "\n",
       "    .dataframe thead th {\n",
       "        text-align: left;\n",
       "    }\n",
       "\n",
       "    .dataframe tbody tr th {\n",
       "        vertical-align: top;\n",
       "    }\n",
       "</style>\n",
       "<table border=\"1\" class=\"dataframe\">\n",
       "  <thead>\n",
       "    <tr style=\"text-align: right;\">\n",
       "      <th></th>\n",
       "      <th>dict</th>\n",
       "    </tr>\n",
       "  </thead>\n",
       "  <tbody>\n",
       "    <tr>\n",
       "      <th>0</th>\n",
       "      <td>!EXCLAMATION-POINT  EH2 K S K L AH0 M EY1 SH A...</td>\n",
       "    </tr>\n",
       "    <tr>\n",
       "      <th>1</th>\n",
       "      <td>\"CLOSE-QUOTE  K L OW1 Z K W OW1 T</td>\n",
       "    </tr>\n",
       "    <tr>\n",
       "      <th>2</th>\n",
       "      <td>\"DOUBLE-QUOTE  D AH1 B AH0 L K W OW1 T</td>\n",
       "    </tr>\n",
       "    <tr>\n",
       "      <th>3</th>\n",
       "      <td>\"END-OF-QUOTE  EH1 N D AH0 V K W OW1 T</td>\n",
       "    </tr>\n",
       "    <tr>\n",
       "      <th>4</th>\n",
       "      <td>\"END-QUOTE  EH1 N D K W OW1 T</td>\n",
       "    </tr>\n",
       "  </tbody>\n",
       "</table>\n",
       "</div>"
      ],
      "text/plain": [
       "                                                dict\n",
       "0  !EXCLAMATION-POINT  EH2 K S K L AH0 M EY1 SH A...\n",
       "1                  \"CLOSE-QUOTE  K L OW1 Z K W OW1 T\n",
       "2             \"DOUBLE-QUOTE  D AH1 B AH0 L K W OW1 T\n",
       "3             \"END-OF-QUOTE  EH1 N D AH0 V K W OW1 T\n",
       "4                      \"END-QUOTE  EH1 N D K W OW1 T"
      ]
     },
     "execution_count": 6,
     "metadata": {},
     "output_type": "execute_result"
    }
   ],
   "source": [
    "import pandas as pd\n",
    "from syllabifyARPA import syllabifyARPA\n",
    "\n",
    "df = pd.read_csv('cmudict.txt', delimiter='\\n', header=None, quoting=3, comment='#', names=['dict'])\n",
    "#df = pd.read_csv('cmusubset.txt', delimiter='\\n', header=None, names=['dict']) # For quick testing\n",
    "df.head()"
   ]
  },
  {
   "cell_type": "markdown",
   "metadata": {},
   "source": [
    "### Preprocessing data"
   ]
  },
  {
   "cell_type": "code",
   "execution_count": 7,
   "metadata": {},
   "outputs": [
    {
     "data": {
      "text/html": [
       "<div>\n",
       "<style>\n",
       "    .dataframe thead tr:only-child th {\n",
       "        text-align: right;\n",
       "    }\n",
       "\n",
       "    .dataframe thead th {\n",
       "        text-align: left;\n",
       "    }\n",
       "\n",
       "    .dataframe tbody tr th {\n",
       "        vertical-align: top;\n",
       "    }\n",
       "</style>\n",
       "<table border=\"1\" class=\"dataframe\">\n",
       "  <thead>\n",
       "    <tr style=\"text-align: right;\">\n",
       "      <th></th>\n",
       "      <th>word</th>\n",
       "      <th>transcription</th>\n",
       "    </tr>\n",
       "  </thead>\n",
       "  <tbody>\n",
       "    <tr>\n",
       "      <th>38</th>\n",
       "      <td>A</td>\n",
       "      <td>[AH0]</td>\n",
       "    </tr>\n",
       "    <tr>\n",
       "      <th>45</th>\n",
       "      <td>AABERG</td>\n",
       "      <td>[AA1, B, ER0, G]</td>\n",
       "    </tr>\n",
       "    <tr>\n",
       "      <th>46</th>\n",
       "      <td>AACHEN</td>\n",
       "      <td>[AA1, K, AH0, N]</td>\n",
       "    </tr>\n",
       "    <tr>\n",
       "      <th>47</th>\n",
       "      <td>AAKER</td>\n",
       "      <td>[AA1, K, ER0]</td>\n",
       "    </tr>\n",
       "    <tr>\n",
       "      <th>48</th>\n",
       "      <td>AALSETH</td>\n",
       "      <td>[AA1, L, S, EH0, TH]</td>\n",
       "    </tr>\n",
       "  </tbody>\n",
       "</table>\n",
       "</div>"
      ],
      "text/plain": [
       "       word         transcription\n",
       "38        A                 [AH0]\n",
       "45   AABERG      [AA1, B, ER0, G]\n",
       "46   AACHEN      [AA1, K, AH0, N]\n",
       "47    AAKER         [AA1, K, ER0]\n",
       "48  AALSETH  [AA1, L, S, EH0, TH]"
      ]
     },
     "execution_count": 7,
     "metadata": {},
     "output_type": "execute_result"
    }
   ],
   "source": [
    "# Removing all rows containing non-alphanumeric characters and spaces \n",
    "df = df[df['dict'].str.contains(r'[^A-Z0-2 ]') == False]\n",
    "df = df['dict'].str.extract(r'(?P<word>\\w+) (?P<transcription>.+)', expand=True)\n",
    "# Splitting into an array of phonemes described in phoneset.txt\n",
    "df['transcription'] = df['transcription'].str.split()\n",
    "df.head()"
   ]
  },
  {
   "cell_type": "markdown",
   "metadata": {},
   "source": [
    "### Applying syllabifyARPA and manipulating the returned DataFrame"
   ]
  },
  {
   "cell_type": "code",
   "execution_count": 8,
   "metadata": {},
   "outputs": [
    {
     "data": {
      "text/html": [
       "<div>\n",
       "<style>\n",
       "    .dataframe thead tr:only-child th {\n",
       "        text-align: right;\n",
       "    }\n",
       "\n",
       "    .dataframe thead th {\n",
       "        text-align: left;\n",
       "    }\n",
       "\n",
       "    .dataframe tbody tr th {\n",
       "        vertical-align: top;\n",
       "    }\n",
       "</style>\n",
       "<table border=\"1\" class=\"dataframe\">\n",
       "  <thead>\n",
       "    <tr style=\"text-align: right;\">\n",
       "      <th></th>\n",
       "      <th>0</th>\n",
       "      <th>1</th>\n",
       "      <th>2</th>\n",
       "      <th>3</th>\n",
       "      <th>4</th>\n",
       "      <th>5</th>\n",
       "      <th>6</th>\n",
       "      <th>7</th>\n",
       "      <th>8</th>\n",
       "    </tr>\n",
       "  </thead>\n",
       "  <tbody>\n",
       "    <tr>\n",
       "      <th>38</th>\n",
       "      <td>AH0</td>\n",
       "      <td>NaN</td>\n",
       "      <td>NaN</td>\n",
       "      <td>NaN</td>\n",
       "      <td>NaN</td>\n",
       "      <td>NaN</td>\n",
       "      <td>NaN</td>\n",
       "      <td>NaN</td>\n",
       "      <td>NaN</td>\n",
       "    </tr>\n",
       "    <tr>\n",
       "      <th>45</th>\n",
       "      <td>AA1</td>\n",
       "      <td>B ER0 G</td>\n",
       "      <td>NaN</td>\n",
       "      <td>NaN</td>\n",
       "      <td>NaN</td>\n",
       "      <td>NaN</td>\n",
       "      <td>NaN</td>\n",
       "      <td>NaN</td>\n",
       "      <td>NaN</td>\n",
       "    </tr>\n",
       "    <tr>\n",
       "      <th>46</th>\n",
       "      <td>AA1</td>\n",
       "      <td>K AH0 N</td>\n",
       "      <td>NaN</td>\n",
       "      <td>NaN</td>\n",
       "      <td>NaN</td>\n",
       "      <td>NaN</td>\n",
       "      <td>NaN</td>\n",
       "      <td>NaN</td>\n",
       "      <td>NaN</td>\n",
       "    </tr>\n",
       "    <tr>\n",
       "      <th>47</th>\n",
       "      <td>AA1</td>\n",
       "      <td>K ER0</td>\n",
       "      <td>NaN</td>\n",
       "      <td>NaN</td>\n",
       "      <td>NaN</td>\n",
       "      <td>NaN</td>\n",
       "      <td>NaN</td>\n",
       "      <td>NaN</td>\n",
       "      <td>NaN</td>\n",
       "    </tr>\n",
       "    <tr>\n",
       "      <th>48</th>\n",
       "      <td>AA1 L</td>\n",
       "      <td>S EH0 TH</td>\n",
       "      <td>NaN</td>\n",
       "      <td>NaN</td>\n",
       "      <td>NaN</td>\n",
       "      <td>NaN</td>\n",
       "      <td>NaN</td>\n",
       "      <td>NaN</td>\n",
       "      <td>NaN</td>\n",
       "    </tr>\n",
       "  </tbody>\n",
       "</table>\n",
       "</div>"
      ],
      "text/plain": [
       "        0         1    2    3    4    5    6    7    8\n",
       "38    AH0       NaN  NaN  NaN  NaN  NaN  NaN  NaN  NaN\n",
       "45    AA1   B ER0 G  NaN  NaN  NaN  NaN  NaN  NaN  NaN\n",
       "46    AA1   K AH0 N  NaN  NaN  NaN  NaN  NaN  NaN  NaN\n",
       "47    AA1     K ER0  NaN  NaN  NaN  NaN  NaN  NaN  NaN\n",
       "48  AA1 L  S EH0 TH  NaN  NaN  NaN  NaN  NaN  NaN  NaN"
      ]
     },
     "execution_count": 8,
     "metadata": {},
     "output_type": "execute_result"
    }
   ],
   "source": [
    "# Ignores any ValueErrors thrown by the function\n",
    "syllables = df['transcription'].apply(syllabifyARPA, silence_warnings=True)\n",
    "(syllables.dropna(thresh=1)).head() # Drops unsyllabifiable transcriptions - not in place!"
   ]
  },
  {
   "cell_type": "code",
   "execution_count": 9,
   "metadata": {
    "collapsed": true
   },
   "outputs": [],
   "source": [
    "df = pd.concat([df, syllables], axis=1)\n",
    "melted_df = df.melt(id_vars=['word', 'transcription'], value_name='syllable', var_name='position')\n",
    "melted_df.dropna(inplace=True) # Drops all NaN positions, e.g., syllables 3+ in a disyllabic word"
   ]
  },
  {
   "cell_type": "code",
   "execution_count": 10,
   "metadata": {},
   "outputs": [
    {
     "data": {
      "text/html": [
       "<div>\n",
       "<style>\n",
       "    .dataframe thead tr:only-child th {\n",
       "        text-align: right;\n",
       "    }\n",
       "\n",
       "    .dataframe thead th {\n",
       "        text-align: left;\n",
       "    }\n",
       "\n",
       "    .dataframe tbody tr th {\n",
       "        vertical-align: top;\n",
       "    }\n",
       "</style>\n",
       "<table border=\"1\" class=\"dataframe\">\n",
       "  <thead>\n",
       "    <tr style=\"text-align: right;\">\n",
       "      <th></th>\n",
       "      <th>word</th>\n",
       "      <th>transcription</th>\n",
       "      <th>position</th>\n",
       "      <th>syllable</th>\n",
       "    </tr>\n",
       "  </thead>\n",
       "  <tbody>\n",
       "    <tr>\n",
       "      <th>0</th>\n",
       "      <td>A</td>\n",
       "      <td>[AH0]</td>\n",
       "      <td>0</td>\n",
       "      <td>AH0</td>\n",
       "    </tr>\n",
       "    <tr>\n",
       "      <th>102287</th>\n",
       "      <td>AABERG</td>\n",
       "      <td>[AA1, B, ER0, G]</td>\n",
       "      <td>1</td>\n",
       "      <td>B ER0 G</td>\n",
       "    </tr>\n",
       "    <tr>\n",
       "      <th>1</th>\n",
       "      <td>AABERG</td>\n",
       "      <td>[AA1, B, ER0, G]</td>\n",
       "      <td>0</td>\n",
       "      <td>AA1</td>\n",
       "    </tr>\n",
       "    <tr>\n",
       "      <th>2</th>\n",
       "      <td>AACHEN</td>\n",
       "      <td>[AA1, K, AH0, N]</td>\n",
       "      <td>0</td>\n",
       "      <td>AA1</td>\n",
       "    </tr>\n",
       "    <tr>\n",
       "      <th>102288</th>\n",
       "      <td>AACHEN</td>\n",
       "      <td>[AA1, K, AH0, N]</td>\n",
       "      <td>1</td>\n",
       "      <td>K AH0 N</td>\n",
       "    </tr>\n",
       "  </tbody>\n",
       "</table>\n",
       "</div>"
      ],
      "text/plain": [
       "          word     transcription position syllable\n",
       "0            A             [AH0]        0      AH0\n",
       "102287  AABERG  [AA1, B, ER0, G]        1  B ER0 G\n",
       "1       AABERG  [AA1, B, ER0, G]        0      AA1\n",
       "2       AACHEN  [AA1, K, AH0, N]        0      AA1\n",
       "102288  AACHEN  [AA1, K, AH0, N]        1  K AH0 N"
      ]
     },
     "execution_count": 10,
     "metadata": {},
     "output_type": "execute_result"
    }
   ],
   "source": [
    "melted_df.sort_values('word', inplace=True)\n",
    "melted_df.head()"
   ]
  }
 ],
 "metadata": {
  "kernelspec": {
   "display_name": "Python 3",
   "language": "python",
   "name": "python3"
  },
  "language_info": {
   "codemirror_mode": {
    "name": "ipython",
    "version": 3
   },
   "file_extension": ".py",
   "mimetype": "text/x-python",
   "name": "python",
   "nbconvert_exporter": "python",
   "pygments_lexer": "ipython3",
   "version": "3.6.2"
  }
 },
 "nbformat": 4,
 "nbformat_minor": 2
}
